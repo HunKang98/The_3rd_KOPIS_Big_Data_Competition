{
 "cells": [
  {
   "cell_type": "code",
   "execution_count": 1,
   "id": "b414ee55",
   "metadata": {
    "scrolled": true
   },
   "outputs": [
    {
     "name": "stderr",
     "output_type": "stream",
     "text": [
      "C:\\Users\\passion\\Anaconda3\\lib\\site-packages\\scipy\\__init__.py:138: UserWarning: A NumPy version >=1.16.5 and <1.23.0 is required for this version of SciPy (detected version 1.24.3)\n",
      "  warnings.warn(f\"A NumPy version >={np_minversion} and <{np_maxversion} is required for this version of \"\n"
     ]
    },
    {
     "data": {
      "text/html": [
       "<div>\n",
       "<style scoped>\n",
       "    .dataframe tbody tr th:only-of-type {\n",
       "        vertical-align: middle;\n",
       "    }\n",
       "\n",
       "    .dataframe tbody tr th {\n",
       "        vertical-align: top;\n",
       "    }\n",
       "\n",
       "    .dataframe thead th {\n",
       "        text-align: right;\n",
       "    }\n",
       "</style>\n",
       "<table border=\"1\" class=\"dataframe\">\n",
       "  <thead>\n",
       "    <tr style=\"text-align: right;\">\n",
       "      <th></th>\n",
       "      <th>전송사업자코드</th>\n",
       "      <th>공연코드</th>\n",
       "      <th>공연회차</th>\n",
       "      <th>소요시간</th>\n",
       "      <th>장르명</th>\n",
       "      <th>세부장르명</th>\n",
       "      <th>출연진내용</th>\n",
       "      <th>제작진내용</th>\n",
       "      <th>기획제작사명</th>\n",
       "      <th>관람연령</th>\n",
       "      <th>...</th>\n",
       "      <th>공연시작요일</th>\n",
       "      <th>공연시작시분</th>\n",
       "      <th>공연기간</th>\n",
       "      <th>공휴일여부</th>\n",
       "      <th>좌석등급개수</th>\n",
       "      <th>평균티켓가격</th>\n",
       "      <th>좌석점유율</th>\n",
       "      <th>코로나표준점수</th>\n",
       "      <th>검색량</th>\n",
       "      <th>출연횟수</th>\n",
       "    </tr>\n",
       "    <tr>\n",
       "      <th>Unnamed: 0</th>\n",
       "      <th></th>\n",
       "      <th></th>\n",
       "      <th></th>\n",
       "      <th></th>\n",
       "      <th></th>\n",
       "      <th></th>\n",
       "      <th></th>\n",
       "      <th></th>\n",
       "      <th></th>\n",
       "      <th></th>\n",
       "      <th></th>\n",
       "      <th></th>\n",
       "      <th></th>\n",
       "      <th></th>\n",
       "      <th></th>\n",
       "      <th></th>\n",
       "      <th></th>\n",
       "      <th></th>\n",
       "      <th></th>\n",
       "      <th></th>\n",
       "      <th></th>\n",
       "    </tr>\n",
       "  </thead>\n",
       "  <tbody>\n",
       "    <tr>\n",
       "      <th>0</th>\n",
       "      <td>SE000102</td>\n",
       "      <td>PF360097</td>\n",
       "      <td>1</td>\n",
       "      <td>90</td>\n",
       "      <td>서양음악(클래식)</td>\n",
       "      <td>기악</td>\n",
       "      <td>한성원</td>\n",
       "      <td>NaN</td>\n",
       "      <td>대구콘서트하우스(주최)</td>\n",
       "      <td>만 6세 이상</td>\n",
       "      <td>...</td>\n",
       "      <td>Tuesday</td>\n",
       "      <td>1170</td>\n",
       "      <td>1</td>\n",
       "      <td>0</td>\n",
       "      <td>1</td>\n",
       "      <td>10000.0</td>\n",
       "      <td>0.995968</td>\n",
       "      <td>0</td>\n",
       "      <td>0</td>\n",
       "      <td>7</td>\n",
       "    </tr>\n",
       "    <tr>\n",
       "      <th>1</th>\n",
       "      <td>SE000102</td>\n",
       "      <td>PF360828</td>\n",
       "      <td>1</td>\n",
       "      <td>70</td>\n",
       "      <td>서양음악(클래식)</td>\n",
       "      <td>기악</td>\n",
       "      <td>최민정, 배규희, 우현수, 정혜진, 남자은</td>\n",
       "      <td>NaN</td>\n",
       "      <td>대구콘서트하우스(주최)</td>\n",
       "      <td>만 7세 이상</td>\n",
       "      <td>...</td>\n",
       "      <td>Tuesday</td>\n",
       "      <td>1170</td>\n",
       "      <td>1</td>\n",
       "      <td>0</td>\n",
       "      <td>1</td>\n",
       "      <td>10000.0</td>\n",
       "      <td>0.983871</td>\n",
       "      <td>0</td>\n",
       "      <td>0</td>\n",
       "      <td>4</td>\n",
       "    </tr>\n",
       "    <tr>\n",
       "      <th>2</th>\n",
       "      <td>SE000303</td>\n",
       "      <td>PF373182</td>\n",
       "      <td>1</td>\n",
       "      <td>60</td>\n",
       "      <td>서양음악(클래식)</td>\n",
       "      <td>기악</td>\n",
       "      <td>김은지, 오은비, 형성경, 신유리</td>\n",
       "      <td>NaN</td>\n",
       "      <td>블랑앳누아(주최), 블랑앳누아(주관)</td>\n",
       "      <td>만 7세 이상</td>\n",
       "      <td>...</td>\n",
       "      <td>Saturday</td>\n",
       "      <td>1170</td>\n",
       "      <td>1</td>\n",
       "      <td>0</td>\n",
       "      <td>1</td>\n",
       "      <td>10000.0</td>\n",
       "      <td>0.024194</td>\n",
       "      <td>0</td>\n",
       "      <td>0</td>\n",
       "      <td>2</td>\n",
       "    </tr>\n",
       "    <tr>\n",
       "      <th>3</th>\n",
       "      <td>SE000102</td>\n",
       "      <td>PF360028</td>\n",
       "      <td>1</td>\n",
       "      <td>70</td>\n",
       "      <td>서양음악(클래식)</td>\n",
       "      <td>성악</td>\n",
       "      <td>권재희, 정지은</td>\n",
       "      <td>NaN</td>\n",
       "      <td>대구콘서트하우스(주최)</td>\n",
       "      <td>만 7세 이상</td>\n",
       "      <td>...</td>\n",
       "      <td>Friday</td>\n",
       "      <td>1170</td>\n",
       "      <td>1</td>\n",
       "      <td>0</td>\n",
       "      <td>1</td>\n",
       "      <td>10000.0</td>\n",
       "      <td>0.754032</td>\n",
       "      <td>0</td>\n",
       "      <td>0</td>\n",
       "      <td>2</td>\n",
       "    </tr>\n",
       "    <tr>\n",
       "      <th>4</th>\n",
       "      <td>SE000102</td>\n",
       "      <td>PF373483</td>\n",
       "      <td>1</td>\n",
       "      <td>90</td>\n",
       "      <td>서양음악(클래식)</td>\n",
       "      <td>기악</td>\n",
       "      <td>주석용</td>\n",
       "      <td>NaN</td>\n",
       "      <td>대구콘서트하우스(주최), 대구콘서트하우스(기획사)</td>\n",
       "      <td>만 7세 이상</td>\n",
       "      <td>...</td>\n",
       "      <td>Friday</td>\n",
       "      <td>1170</td>\n",
       "      <td>1</td>\n",
       "      <td>0</td>\n",
       "      <td>1</td>\n",
       "      <td>10000.0</td>\n",
       "      <td>0.991935</td>\n",
       "      <td>0</td>\n",
       "      <td>0</td>\n",
       "      <td>1</td>\n",
       "    </tr>\n",
       "    <tr>\n",
       "      <th>...</th>\n",
       "      <td>...</td>\n",
       "      <td>...</td>\n",
       "      <td>...</td>\n",
       "      <td>...</td>\n",
       "      <td>...</td>\n",
       "      <td>...</td>\n",
       "      <td>...</td>\n",
       "      <td>...</td>\n",
       "      <td>...</td>\n",
       "      <td>...</td>\n",
       "      <td>...</td>\n",
       "      <td>...</td>\n",
       "      <td>...</td>\n",
       "      <td>...</td>\n",
       "      <td>...</td>\n",
       "      <td>...</td>\n",
       "      <td>...</td>\n",
       "      <td>...</td>\n",
       "      <td>...</td>\n",
       "      <td>...</td>\n",
       "      <td>...</td>\n",
       "    </tr>\n",
       "    <tr>\n",
       "      <th>305</th>\n",
       "      <td>SE000102</td>\n",
       "      <td>PF425546</td>\n",
       "      <td>1</td>\n",
       "      <td>80</td>\n",
       "      <td>서양음악(클래식)</td>\n",
       "      <td>성악</td>\n",
       "      <td>이정아, 배혜리, 이영규, 백민아, 구은정, 최민영, 김아름 등</td>\n",
       "      <td>NaN</td>\n",
       "      <td>더 소프라노즈(주최), 더 소프라노즈(주관)</td>\n",
       "      <td>만 7세 이상</td>\n",
       "      <td>...</td>\n",
       "      <td>Wednesday</td>\n",
       "      <td>1170</td>\n",
       "      <td>1</td>\n",
       "      <td>0</td>\n",
       "      <td>1</td>\n",
       "      <td>20000.0</td>\n",
       "      <td>1.362903</td>\n",
       "      <td>0</td>\n",
       "      <td>0</td>\n",
       "      <td>10</td>\n",
       "    </tr>\n",
       "    <tr>\n",
       "      <th>306</th>\n",
       "      <td>SE000201</td>\n",
       "      <td>PF424911</td>\n",
       "      <td>1</td>\n",
       "      <td>90</td>\n",
       "      <td>서양음악(클래식)</td>\n",
       "      <td>기악</td>\n",
       "      <td>이호찬, 박상욱</td>\n",
       "      <td>NaN</td>\n",
       "      <td>대구콘서트하우스(주최), 대구콘서트하우스(주관)</td>\n",
       "      <td>만 7세 이상</td>\n",
       "      <td>...</td>\n",
       "      <td>Friday</td>\n",
       "      <td>1170</td>\n",
       "      <td>1</td>\n",
       "      <td>0</td>\n",
       "      <td>1</td>\n",
       "      <td>30000.0</td>\n",
       "      <td>0.596774</td>\n",
       "      <td>0</td>\n",
       "      <td>520</td>\n",
       "      <td>14</td>\n",
       "    </tr>\n",
       "    <tr>\n",
       "      <th>307</th>\n",
       "      <td>SE000201</td>\n",
       "      <td>PF424030</td>\n",
       "      <td>1</td>\n",
       "      <td>90</td>\n",
       "      <td>대중음악</td>\n",
       "      <td>재즈/월드뮤직</td>\n",
       "      <td>김우연, 김재원, 김종호, 이찬희, 고상지</td>\n",
       "      <td>NaN</td>\n",
       "      <td>대구콘서트하우스(주최), 대구콘서트하우스(주관)</td>\n",
       "      <td>만 7세 이상</td>\n",
       "      <td>...</td>\n",
       "      <td>Tuesday</td>\n",
       "      <td>1170</td>\n",
       "      <td>1</td>\n",
       "      <td>0</td>\n",
       "      <td>1</td>\n",
       "      <td>10000.0</td>\n",
       "      <td>0.959677</td>\n",
       "      <td>0</td>\n",
       "      <td>1930</td>\n",
       "      <td>155</td>\n",
       "    </tr>\n",
       "    <tr>\n",
       "      <th>308</th>\n",
       "      <td>SE000303</td>\n",
       "      <td>PF425801</td>\n",
       "      <td>1</td>\n",
       "      <td>70</td>\n",
       "      <td>서양음악(클래식)</td>\n",
       "      <td>기악</td>\n",
       "      <td>김혜령</td>\n",
       "      <td>NaN</td>\n",
       "      <td>NaN</td>\n",
       "      <td>만 7세 이상</td>\n",
       "      <td>...</td>\n",
       "      <td>Thursday</td>\n",
       "      <td>1170</td>\n",
       "      <td>1</td>\n",
       "      <td>0</td>\n",
       "      <td>1</td>\n",
       "      <td>10000.0</td>\n",
       "      <td>1.000000</td>\n",
       "      <td>0</td>\n",
       "      <td>0</td>\n",
       "      <td>9</td>\n",
       "    </tr>\n",
       "    <tr>\n",
       "      <th>309</th>\n",
       "      <td>SE000102</td>\n",
       "      <td>PF426422</td>\n",
       "      <td>1</td>\n",
       "      <td>90</td>\n",
       "      <td>서양음악(클래식)</td>\n",
       "      <td>기악</td>\n",
       "      <td>유시온, 권정민, 김유진, 김현아 정유정, 박재영, 박현아</td>\n",
       "      <td>NaN</td>\n",
       "      <td>엠케이예술(MK ARTS)(주최), 엠케이예술(MK ARTS)(기획사)</td>\n",
       "      <td>만 5세 이상</td>\n",
       "      <td>...</td>\n",
       "      <td>Friday</td>\n",
       "      <td>1170</td>\n",
       "      <td>1</td>\n",
       "      <td>0</td>\n",
       "      <td>1</td>\n",
       "      <td>10000.0</td>\n",
       "      <td>1.000000</td>\n",
       "      <td>0</td>\n",
       "      <td>0</td>\n",
       "      <td>3</td>\n",
       "    </tr>\n",
       "  </tbody>\n",
       "</table>\n",
       "<p>310 rows × 28 columns</p>\n",
       "</div>"
      ],
      "text/plain": [
       "             전송사업자코드      공연코드  공연회차  소요시간        장르명    세부장르명  \\\n",
       "Unnamed: 0                                                       \n",
       "0           SE000102  PF360097     1    90  서양음악(클래식)       기악   \n",
       "1           SE000102  PF360828     1    70  서양음악(클래식)       기악   \n",
       "2           SE000303  PF373182     1    60  서양음악(클래식)       기악   \n",
       "3           SE000102  PF360028     1    70  서양음악(클래식)       성악   \n",
       "4           SE000102  PF373483     1    90  서양음악(클래식)       기악   \n",
       "...              ...       ...   ...   ...        ...      ...   \n",
       "305         SE000102  PF425546     1    80  서양음악(클래식)       성악   \n",
       "306         SE000201  PF424911     1    90  서양음악(클래식)       기악   \n",
       "307         SE000201  PF424030     1    90       대중음악  재즈/월드뮤직   \n",
       "308         SE000303  PF425801     1    70  서양음악(클래식)       기악   \n",
       "309         SE000102  PF426422     1    90  서양음악(클래식)       기악   \n",
       "\n",
       "                                          출연진내용 제작진내용  \\\n",
       "Unnamed: 0                                              \n",
       "0                                           한성원   NaN   \n",
       "1                       최민정, 배규희, 우현수, 정혜진, 남자은   NaN   \n",
       "2                            김은지, 오은비, 형성경, 신유리   NaN   \n",
       "3                                      권재희, 정지은   NaN   \n",
       "4                                           주석용   NaN   \n",
       "...                                         ...   ...   \n",
       "305         이정아, 배혜리, 이영규, 백민아, 구은정, 최민영, 김아름 등   NaN   \n",
       "306                                    이호찬, 박상욱   NaN   \n",
       "307                     김우연, 김재원, 김종호, 이찬희, 고상지   NaN   \n",
       "308                                         김혜령   NaN   \n",
       "309            유시온, 권정민, 김유진, 김현아 정유정, 박재영, 박현아   NaN   \n",
       "\n",
       "                                             기획제작사명     관람연령  ...     공연시작요일  \\\n",
       "Unnamed: 0                                                    ...              \n",
       "0                                      대구콘서트하우스(주최)  만 6세 이상  ...    Tuesday   \n",
       "1                                      대구콘서트하우스(주최)  만 7세 이상  ...    Tuesday   \n",
       "2                              블랑앳누아(주최), 블랑앳누아(주관)  만 7세 이상  ...   Saturday   \n",
       "3                                      대구콘서트하우스(주최)  만 7세 이상  ...     Friday   \n",
       "4                       대구콘서트하우스(주최), 대구콘서트하우스(기획사)  만 7세 이상  ...     Friday   \n",
       "...                                             ...      ...  ...        ...   \n",
       "305                        더 소프라노즈(주최), 더 소프라노즈(주관)  만 7세 이상  ...  Wednesday   \n",
       "306                      대구콘서트하우스(주최), 대구콘서트하우스(주관)  만 7세 이상  ...     Friday   \n",
       "307                      대구콘서트하우스(주최), 대구콘서트하우스(주관)  만 7세 이상  ...    Tuesday   \n",
       "308                                             NaN  만 7세 이상  ...   Thursday   \n",
       "309         엠케이예술(MK ARTS)(주최), 엠케이예술(MK ARTS)(기획사)  만 5세 이상  ...     Friday   \n",
       "\n",
       "           공연시작시분 공연기간 공휴일여부 좌석등급개수   평균티켓가격     좌석점유율  코로나표준점수   검색량  출연횟수  \n",
       "Unnamed: 0                                                                   \n",
       "0            1170    1     0      1  10000.0  0.995968        0     0     7  \n",
       "1            1170    1     0      1  10000.0  0.983871        0     0     4  \n",
       "2            1170    1     0      1  10000.0  0.024194        0     0     2  \n",
       "3            1170    1     0      1  10000.0  0.754032        0     0     2  \n",
       "4            1170    1     0      1  10000.0  0.991935        0     0     1  \n",
       "...           ...  ...   ...    ...      ...       ...      ...   ...   ...  \n",
       "305          1170    1     0      1  20000.0  1.362903        0     0    10  \n",
       "306          1170    1     0      1  30000.0  0.596774        0   520    14  \n",
       "307          1170    1     0      1  10000.0  0.959677        0  1930   155  \n",
       "308          1170    1     0      1  10000.0  1.000000        0     0     9  \n",
       "309          1170    1     0      1  10000.0  1.000000        0     0     3  \n",
       "\n",
       "[310 rows x 28 columns]"
      ]
     },
     "metadata": {},
     "output_type": "display_data"
    }
   ],
   "source": [
    "import pandas as pd\n",
    "import numpy as np\n",
    "import matplotlib.pyplot as plt\n",
    "from sklearn.preprocessing import OneHotEncoder, MinMaxScaler, MultiLabelBinarizer, LabelEncoder\n",
    "from sklearn.model_selection import train_test_split\n",
    "from sklearn.metrics import mean_squared_error, mean_absolute_error\n",
    "from sklearn.model_selection import train_test_split\n",
    "from sklearn.ensemble import RandomForestRegressor, AdaBoostRegressor, GradientBoostingRegressor\n",
    "from xgboost import XGBRegressor\n",
    "import pickle\n",
    "import re\n",
    "\n",
    "df = pd.read_csv(r'../preprocessed_data/대구콘서트하우스/대구콘서트하우스_preprocessed.csv', index_col = 0)\n",
    "display(df)"
   ]
  },
  {
   "cell_type": "code",
   "execution_count": 6,
   "id": "62cfe41d",
   "metadata": {},
   "outputs": [],
   "source": [
    "df.drop(['전송사업자코드','공연회차','오픈런 여부','제작진내용', '공연기간', '출연진내용'], axis = 1, inplace = True)"
   ]
  },
  {
   "cell_type": "code",
   "execution_count": 5,
   "id": "e0a9622e",
   "metadata": {},
   "outputs": [],
   "source": [
    "#관람연령 결측치는 최빈값으로 대체\n",
    "df['관람연령'] = df['관람연령'].fillna('만 7세 이상')\n",
    "\n",
    "#관람연령은 연령순대로 labelencoding\n",
    "age_dict = {'전체 관람가':0, '12개월 이상': 1, '24개월 이상':2, '36개월 이상':3, '48개월 이상':4, '만 4세 이상':4, '만 5세 이상':5, \n",
    "            '만 6세 이상':6, '만 7세 이상':7, '만 8세 이상':8, '만 11세 이상':9, '만 13세 이상': 10}\n",
    "df['관람연령'] = df['관람연령'].map(age_dict)\n",
    "\n",
    "#기획제작사명 괄호 제거 및 리스트화\n",
    "df['기획제작사명_전처리'] = df['기획제작사명'].apply(lambda x: ['Unknown'] if pd.isna(x) else re.sub(r'\\([^)]*\\)', '', x.replace(\" \", \"\")).split(','))\n",
    "\n",
    "df.reset_index(drop = True, inplace = True)"
   ]
  },
  {
   "cell_type": "code",
   "execution_count": 8,
   "id": "d0ebd3f8",
   "metadata": {},
   "outputs": [],
   "source": [
    "#아동공연 여부, 축제 여부, 내한공연 여부, 단독판매 여부를 이진값으로 변환\n",
    "ny_dict = {'N':0 , 'Y':1}\n",
    "df['아동공연 여부'] = df['아동공연 여부'].map(ny_dict)\n",
    "df['축제 여부'] = df['축제 여부'].map(ny_dict)\n",
    "df['내한공연 여부'] = df['내한공연 여부'].map(ny_dict)\n",
    "df['단독판매여부'] = df['단독판매여부'].map(ny_dict)"
   ]
  },
  {
   "cell_type": "code",
   "execution_count": 9,
   "id": "8067910a",
   "metadata": {},
   "outputs": [],
   "source": [
    "#장르명 열과 세부장르명 열은 통합\n",
    "df['장르_세부'] = df['장르명']+'_'+df['세부장르명']\n",
    "df['장르_세부'].unique()\n",
    "df.drop(['장르명','세부장르명','기획제작사명'], axis = 1, inplace = True)"
   ]
  },
  {
   "cell_type": "code",
   "execution_count": 14,
   "id": "4b8d4761",
   "metadata": {},
   "outputs": [
    {
     "name": "stdout",
     "output_type": "stream",
     "text": [
      "(278, 7)\n"
     ]
    }
   ],
   "source": [
    "#공연시작요일 onehotencoding\n",
    "oe = OneHotEncoder()\n",
    "one_hot_df = oe.fit_transform(df['공연시작요일'].values.reshape(-1,1)).toarray()\n",
    "one_hot_df = pd.DataFrame(one_hot_df, columns = ['dayofweek_fri','dayofweek_mon','dayofweek_sat','dayofweek_sun','dayofweek_thu', 'dayofweek_tue','dayofweek_wed'])\n",
    "print(one_hot_df.shape)"
   ]
  },
  {
   "cell_type": "code",
   "execution_count": 15,
   "id": "751e0798",
   "metadata": {},
   "outputs": [],
   "source": [
    "df = pd.concat([df, one_hot_df], axis = 1)"
   ]
  },
  {
   "cell_type": "code",
   "execution_count": 18,
   "id": "2d4a1158",
   "metadata": {},
   "outputs": [
    {
     "name": "stdout",
     "output_type": "stream",
     "text": [
      "(222, 26)\n",
      "(56, 26)\n",
      "(222,)\n",
      "(56,)\n"
     ]
    }
   ],
   "source": [
    "X = df.drop(['공연코드', '좌석점유율'], axis = 1)\n",
    "y = df['좌석점유율']\n",
    "\n",
    "X_train, X_test, y_train, y_test = train_test_split(X, y, test_size = 0.2, random_state = 0)\n",
    "print(X_train.shape)\n",
    "print(X_test.shape)\n",
    "print(y_train.shape)\n",
    "print(y_test.shape)"
   ]
  },
  {
   "cell_type": "code",
   "execution_count": 19,
   "id": "10fff3b5",
   "metadata": {},
   "outputs": [],
   "source": [
    "X_train.reset_index(drop = True, inplace = True)\n",
    "X_test.reset_index(drop = True, inplace = True)"
   ]
  },
  {
   "cell_type": "code",
   "execution_count": 20,
   "id": "bf7daf83",
   "metadata": {},
   "outputs": [],
   "source": [
    "y_train.reset_index(drop = True, inplace = True)\n",
    "y_test.reset_index(drop = True, inplace = True)"
   ]
  },
  {
   "cell_type": "code",
   "execution_count": 21,
   "id": "a8e054e6",
   "metadata": {},
   "outputs": [
    {
     "name": "stdout",
     "output_type": "stream",
     "text": [
      "(222, 12)\n"
     ]
    }
   ],
   "source": [
    "#장르 onehotencoding\n",
    "oe2 = OneHotEncoder(handle_unknown = 'ignore') \n",
    "oe2.fit(X_train['장르_세부'].values.reshape(-1,1))\n",
    "one_hot_trn =oe2.transform(X_train['장르_세부'].values.reshape(-1,1)).toarray()\n",
    "one_hot_trn = pd.DataFrame(one_hot_trn, columns = oe2.categories_[0])\n",
    "print(one_hot_trn.shape)"
   ]
  },
  {
   "cell_type": "code",
   "execution_count": 22,
   "id": "913cfc5c",
   "metadata": {},
   "outputs": [
    {
     "name": "stdout",
     "output_type": "stream",
     "text": [
      "(56, 12)\n"
     ]
    }
   ],
   "source": [
    "one_hot_tes = oe2.transform(X_test['장르_세부'].values.reshape(-1,1)).toarray()\n",
    "one_hot_tes = pd.DataFrame(one_hot_tes, columns = oe2.categories_[0])\n",
    "print(one_hot_tes.shape)"
   ]
  },
  {
   "cell_type": "code",
   "execution_count": 23,
   "id": "98c30501",
   "metadata": {},
   "outputs": [
    {
     "name": "stdout",
     "output_type": "stream",
     "text": [
      "(222, 80)\n"
     ]
    }
   ],
   "source": [
    "mlb = MultiLabelBinarizer()\n",
    "mlb.fit(X_train['기획제작사명_전처리'])\n",
    "mlb_trn = mlb.transform(X_train['기획제작사명_전처리'])\n",
    "mlb_trn = pd.DataFrame(mlb_trn, columns = mlb.classes_)\n",
    "print(mlb_trn.shape)"
   ]
  },
  {
   "cell_type": "code",
   "execution_count": 24,
   "id": "8b1b4e86",
   "metadata": {},
   "outputs": [
    {
     "name": "stdout",
     "output_type": "stream",
     "text": [
      "(56, 80)\n"
     ]
    },
    {
     "name": "stderr",
     "output_type": "stream",
     "text": [
      "C:\\Users\\vmffl\\anaconda3\\Lib\\site-packages\\sklearn\\preprocessing\\_label.py:895: UserWarning: unknown class(es) ['C.A.R', 'GGT동성기획', '공간울림', '노스텍사스대학교음악대학한국동문회', '다원예술위원회', '대구가톨릭대학교', '대구혼앙상블', '더소프라노즈', '소리모아플루트앙상블', '영남대학교', '예성기획', '예술전문단체올웨이코리아', '오푸스', '음악교육신문사', '인어스브라스앙상블', '재한일본여성합창단이코이', '지트리아트컴퍼니'] will be ignored\n",
      "  warnings.warn(\n"
     ]
    }
   ],
   "source": [
    "mlb_tes = mlb.transform(X_test['기획제작사명_전처리'])\n",
    "mlb_tes = pd.DataFrame(mlb_tes, columns = mlb.classes_)\n",
    "print(mlb_tes.shape)"
   ]
  },
  {
   "cell_type": "code",
   "execution_count": 25,
   "id": "6e2ebea8",
   "metadata": {},
   "outputs": [],
   "source": [
    "X_train = pd.concat([X_train, one_hot_trn, mlb_trn], axis = 1)\n",
    "X_test = pd.concat([X_test, one_hot_tes, mlb_tes], axis = 1)"
   ]
  },
  {
   "cell_type": "code",
   "execution_count": 26,
   "id": "d528e506",
   "metadata": {},
   "outputs": [],
   "source": [
    "X_train.drop(['공연시작요일','기획제작사명_전처리','장르_세부'], axis = 1, inplace = True)\n",
    "X_test.drop(['공연시작요일','기획제작사명_전처리','장르_세부'], axis = 1, inplace = True)"
   ]
  },
  {
   "cell_type": "markdown",
   "id": "4efd5042",
   "metadata": {},
   "source": [
    "### RandomForestRegressor"
   ]
  },
  {
   "cell_type": "code",
   "execution_count": 27,
   "id": "591eab84",
   "metadata": {},
   "outputs": [],
   "source": [
    "rf = RandomForestRegressor(n_estimators = 5000, max_features = \"log2\",  random_state = 40, criterion = 'friedman_mse')\n",
    "rf.fit(X_train, y_train)\n",
    "trn_pred = rf.predict(X_train)\n",
    "tes_pred = rf.predict(X_test)"
   ]
  },
  {
   "cell_type": "code",
   "execution_count": 24,
   "id": "5cf3667a",
   "metadata": {},
   "outputs": [
    {
     "name": "stdout",
     "output_type": "stream",
     "text": [
      "0.00525347058613905\n",
      "0.07248082909389937\n",
      "0.05705699983100734\n"
     ]
    }
   ],
   "source": [
    "print(mean_squared_error(y_train, trn_pred))\n",
    "print(np.sqrt(mean_squared_error(y_train, trn_pred)))\n",
    "print(mean_absolute_error(y_train, trn_pred))"
   ]
  },
  {
   "cell_type": "code",
   "execution_count": 24,
   "id": "c5c606a7",
   "metadata": {},
   "outputs": [
    {
     "name": "stdout",
     "output_type": "stream",
     "text": [
      "0.033105401688033685\n",
      "0.18194889856229876\n",
      "0.14188774086840225\n"
     ]
    }
   ],
   "source": [
    "print(mean_squared_error(y_test, tes_pred))\n",
    "print(np.sqrt(mean_squared_error(y_test, tes_pred)))\n",
    "print(mean_absolute_error(y_test, tes_pred))"
   ]
  },
  {
   "cell_type": "markdown",
   "id": "b5bedb66",
   "metadata": {},
   "source": [
    "### GBM"
   ]
  },
  {
   "cell_type": "code",
   "execution_count": 277,
   "id": "4de57e61",
   "metadata": {},
   "outputs": [],
   "source": [
    "gbm = GradientBoostingRegressor(n_estimators = 150, learning_rate = 0.15, loss = 'huber',criterion = 'squared_error'\n",
    "                                ,alpha = 0.7, random_state=40)\n",
    "gbm.fit(X_train, y_train)\n",
    "trn_pred2 = gbm.predict(X_train)\n",
    "tes_pred2 = gbm.predict(X_test)"
   ]
  },
  {
   "cell_type": "code",
   "execution_count": 26,
   "id": "3eaad22f",
   "metadata": {},
   "outputs": [
    {
     "name": "stdout",
     "output_type": "stream",
     "text": [
      "0.012707858695633718\n",
      "0.11272913862721438\n",
      "0.06584253413663606\n"
     ]
    }
   ],
   "source": [
    "print(mean_squared_error(y_train, trn_pred2))\n",
    "print(mean_squared_error(y_train, trn_pred2,squared = False))\n",
    "print(mean_absolute_error(y_train, trn_pred2))"
   ]
  },
  {
   "cell_type": "code",
   "execution_count": 26,
   "id": "aefd6665",
   "metadata": {},
   "outputs": [
    {
     "name": "stdout",
     "output_type": "stream",
     "text": [
      "0.029973413251011143\n",
      "0.1731283144116269\n",
      "0.11459806235821131\n"
     ]
    }
   ],
   "source": [
    "print(mean_squared_error(y_test, tes_pred2))\n",
    "print(mean_squared_error(y_test, tes_pred2, squared = False))\n",
    "print(mean_absolute_error(y_test, tes_pred2))"
   ]
  },
  {
   "cell_type": "code",
   "execution_count": 267,
   "id": "e80bdcd4",
   "metadata": {},
   "outputs": [
    {
     "data": {
      "text/plain": [
       "['NanumSquare Neo Light',\n",
       " 'NanumSquareRoundOTF',\n",
       " 'NanumSquare Neo Heavy',\n",
       " 'NanumSquare Neo ExtraBold',\n",
       " 'NanumSquare Neo Regular',\n",
       " 'NanumSquareRoundOTF',\n",
       " 'NanumGothic',\n",
       " 'NanumSquare Neo Bold',\n",
       " 'NanumSquareOTF_ac',\n",
       " 'NanumSquareOTF_ac',\n",
       " 'NanumSquareRoundOTF',\n",
       " 'NanumSquareOTF_ac',\n",
       " 'NanumSquareOTF',\n",
       " 'NanumSquareOTF',\n",
       " 'NanumSquareOTF_ac',\n",
       " 'NanumSquareOTF',\n",
       " 'NanumSquareRoundOTF',\n",
       " 'NanumSquareOTF']"
      ]
     },
     "execution_count": 267,
     "metadata": {},
     "output_type": "execute_result"
    }
   ],
   "source": [
    "import matplotlib.font_manager\n",
    "import matplotlib.pyplot as plt\n",
    "\n",
    "font_list = matplotlib.font_manager.findSystemFonts(fontpaths=None, fontext='ttf')\n",
    "[matplotlib.font_manager.FontProperties(fname=font).get_name() for font in font_list if 'Nanum' in font]"
   ]
  },
  {
   "cell_type": "code",
   "execution_count": 268,
   "id": "a9acb786",
   "metadata": {},
   "outputs": [],
   "source": [
    "plt.rcParams['font.family'] = 'Malgun Gothic'"
   ]
  },
  {
   "cell_type": "code",
   "execution_count": null,
   "id": "6ae5425f",
   "metadata": {},
   "outputs": [],
   "source": [
    "y_data = pd.concat([y_train, y_test])\n",
    "y_data.reset_index(drop = True, inplace = True)"
   ]
  },
  {
   "cell_type": "code",
   "execution_count": null,
   "id": "513668b0",
   "metadata": {},
   "outputs": [],
   "source": [
    "X_data = pd.concat([X_train, X_test])\n",
    "X_data.reset_index(drop = True, inplace = True)"
   ]
  },
  {
   "cell_type": "code",
   "execution_count": 282,
   "id": "54f0fd92",
   "metadata": {},
   "outputs": [],
   "source": [
    "gbm_all = GradientBoostingRegressor(n_estimators = 150, learning_rate = 0.15, loss = 'huber',criterion = 'squared_error'\n",
    "                                ,alpha = 0.7, random_state=40)\n",
    "gbm_all.fit(X_data, y_data)\n",
    "fin_pred = gbm_all.predict(X_data)"
   ]
  },
  {
   "cell_type": "code",
   "execution_count": 284,
   "id": "ea17b898",
   "metadata": {},
   "outputs": [
    {
     "data": {
      "image/png": "[encoded data removed]",
      "text/plain": [
       "<Figure size 1000x600 with 1 Axes>"
      ]
     },
     "metadata": {},
     "output_type": "display_data"
    }
   ],
   "source": [
    "# imp를 활용하여 Series 생성\n",
    "imp = gbm_all.feature_importances_[:20]\n",
    "forest_importances = pd.Series(imp, index=X_train.columns[:20])\n",
    "\n",
    "# 중요도 값을 기준으로 내림차순으로 정렬\n",
    "forest_importances_sorted = forest_importances.sort_values(ascending=False)\n",
    "#print(forest_importances_sorted.index[:20])\n",
    "\n",
    "\n",
    "plt.figure(figsize=(10, 6))\n",
    "forest_importances_sorted.plot(kind='bar')\n",
    "plt.title(\"Feature Importance\")\n",
    "plt.xlabel(\"Features\")\n",
    "plt.ylabel(\"Importance\")\n",
    "plt.show()\n"
   ]
  },
  {
   "cell_type": "code",
   "execution_count": 285,
   "id": "b307106e",
   "metadata": {},
   "outputs": [],
   "source": [
    "filename = '../model/gbm_fin_model_dae.sav'\n",
    "pickle.dump(gbm_all, open(filename, 'wb'))"
   ]
  },
  {
   "cell_type": "code",
   "execution_count": 286,
   "id": "dbd76a51",
   "metadata": {},
   "outputs": [],
   "source": [
    "X_data['좌석점유율'] = y_data"
   ]
  },
  {
   "cell_type": "code",
   "execution_count": 288,
   "id": "a6321793",
   "metadata": {},
   "outputs": [],
   "source": [
    "X_data.to_csv('../preprocessed_data/대구콘서트하우스/모델학습및테스트데이터_최종.csv')"
   ]
  },
  {
   "cell_type": "markdown",
   "id": "cec2e728",
   "metadata": {},
   "source": [
    "### XG boost"
   ]
  },
  {
   "cell_type": "code",
   "execution_count": 28,
   "id": "96ed4878",
   "metadata": {},
   "outputs": [],
   "source": [
    "xgb_model = XGBRegressor(learning_rate=0.06, n_estimators=300, random_state = 42, max_depth = 10)\n",
    "xgb_model.fit(X_train, y_train)\n",
    "trn_pred3 = xgb_model.predict(X_train)\n",
    "tes_pred3 = xgb_model.predict(X_test)"
   ]
  },
  {
   "cell_type": "code",
   "execution_count": 30,
   "id": "0588892e",
   "metadata": {},
   "outputs": [
    {
     "name": "stdout",
     "output_type": "stream",
     "text": [
      "3.7562598671876984e-06\n",
      "0.001938107289906237\n",
      "0.0011874606151501186\n"
     ]
    }
   ],
   "source": [
    "print(mean_squared_error(y_train, trn_pred3))\n",
    "print(mean_squared_error(y_train, trn_pred3, squared = False))\n",
    "print(mean_absolute_error(y_train, trn_pred3))"
   ]
  },
  {
   "cell_type": "code",
   "execution_count": 31,
   "id": "f3ca0cbc",
   "metadata": {},
   "outputs": [
    {
     "name": "stdout",
     "output_type": "stream",
     "text": [
      "0.03462855320621841\n",
      "0.18608748804317396\n",
      "0.13364697595247613\n"
     ]
    }
   ],
   "source": [
    "print(mean_squared_error(y_test, tes_pred3))\n",
    "print(mean_squared_error(y_test, tes_pred3, squared = False))\n",
    "print(mean_absolute_error(y_test, tes_pred3))"
   ]
  }
 ],
 "metadata": {
  "kernelspec": {
   "display_name": "Python 3 (ipykernel)",
   "language": "python",
   "name": "python3"
  },
  "language_info": {
   "codemirror_mode": {
    "name": "ipython",
    "version": 3
   },
   "file_extension": ".py",
   "mimetype": "text/x-python",
   "name": "python",
   "nbconvert_exporter": "python",
   "pygments_lexer": "ipython3",
   "version": "3.8.8"
  },
  "toc": {
   "base_numbering": 1,
   "nav_menu": {},
   "number_sections": true,
   "sideBar": true,
   "skip_h1_title": false,
   "title_cell": "Table of Contents",
   "title_sidebar": "Contents",
   "toc_cell": false,
   "toc_position": {},
   "toc_section_display": true,
   "toc_window_display": false
  },
  "varInspector": {
   "cols": {
    "lenName": 16,
    "lenType": 16,
    "lenVar": 40
   },
   "kernels_config": {
    "python": {
     "delete_cmd_postfix": "",
     "delete_cmd_prefix": "del ",
     "library": "var_list.py",
     "varRefreshCmd": "print(var_dic_list())"
    },
    "r": {
     "delete_cmd_postfix": ") ",
     "delete_cmd_prefix": "rm(",
     "library": "var_list.r",
     "varRefreshCmd": "cat(var_dic_list()) "
    }
   },
   "types_to_exclude": [
    "module",
    "function",
    "builtin_function_or_method",
    "instance",
    "_Feature"
   ],
   "window_display": false
  }
 },
 "nbformat": 4,
 "nbformat_minor": 5
}
