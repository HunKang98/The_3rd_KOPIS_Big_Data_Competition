{
 "cells": [
  {
   "cell_type": "code",
   "execution_count": 2,
   "id": "eb561c89",
   "metadata": {
    "scrolled": true
   },
   "outputs": [
    {
     "data": {
      "text/html": [
       "<div>\n",
       "<style scoped>\n",
       "    .dataframe tbody tr th:only-of-type {\n",
       "        vertical-align: middle;\n",
       "    }\n",
       "\n",
       "    .dataframe tbody tr th {\n",
       "        vertical-align: top;\n",
       "    }\n",
       "\n",
       "    .dataframe thead th {\n",
       "        text-align: right;\n",
       "    }\n",
       "</style>\n",
       "<table border=\"1\" class=\"dataframe\">\n",
       "  <thead>\n",
       "    <tr style=\"text-align: right;\">\n",
       "      <th></th>\n",
       "      <th>공연코드</th>\n",
       "      <th>공연회차</th>\n",
       "      <th>소요시간</th>\n",
       "      <th>장르명</th>\n",
       "      <th>세부장르명</th>\n",
       "      <th>출연진내용</th>\n",
       "      <th>제작진내용</th>\n",
       "      <th>기획제작사명</th>\n",
       "      <th>관람연령</th>\n",
       "      <th>아동공연 여부</th>\n",
       "      <th>...</th>\n",
       "      <th>공연시작요일</th>\n",
       "      <th>공연시작시분</th>\n",
       "      <th>공연기간</th>\n",
       "      <th>공휴일여부</th>\n",
       "      <th>좌석등급개수</th>\n",
       "      <th>평균티켓가격</th>\n",
       "      <th>좌석점유율</th>\n",
       "      <th>코로나표준점수</th>\n",
       "      <th>검색량</th>\n",
       "      <th>출연횟수</th>\n",
       "    </tr>\n",
       "    <tr>\n",
       "      <th>Unnamed: 0</th>\n",
       "      <th></th>\n",
       "      <th></th>\n",
       "      <th></th>\n",
       "      <th></th>\n",
       "      <th></th>\n",
       "      <th></th>\n",
       "      <th></th>\n",
       "      <th></th>\n",
       "      <th></th>\n",
       "      <th></th>\n",
       "      <th></th>\n",
       "      <th></th>\n",
       "      <th></th>\n",
       "      <th></th>\n",
       "      <th></th>\n",
       "      <th></th>\n",
       "      <th></th>\n",
       "      <th></th>\n",
       "      <th></th>\n",
       "      <th></th>\n",
       "      <th></th>\n",
       "    </tr>\n",
       "  </thead>\n",
       "  <tbody>\n",
       "    <tr>\n",
       "      <th>SE000201</th>\n",
       "      <td>PF372853</td>\n",
       "      <td>1</td>\n",
       "      <td>110</td>\n",
       "      <td>서양음악(클래식)</td>\n",
       "      <td>기악</td>\n",
       "      <td>김주원, 쾅 하오 후앙</td>\n",
       "      <td>NaN</td>\n",
       "      <td>(주)마스트미디어(주최)</td>\n",
       "      <td>만 7세 이상</td>\n",
       "      <td>N</td>\n",
       "      <td>...</td>\n",
       "      <td>Tuesday</td>\n",
       "      <td>1200</td>\n",
       "      <td>1</td>\n",
       "      <td>0</td>\n",
       "      <td>1</td>\n",
       "      <td>30000.0</td>\n",
       "      <td>0.460452</td>\n",
       "      <td>0.0</td>\n",
       "      <td>30</td>\n",
       "      <td>11</td>\n",
       "    </tr>\n",
       "    <tr>\n",
       "      <th>SE000201</th>\n",
       "      <td>PF360668</td>\n",
       "      <td>1</td>\n",
       "      <td>100</td>\n",
       "      <td>서양음악(클래식)</td>\n",
       "      <td>기악</td>\n",
       "      <td>최유진, 이재완</td>\n",
       "      <td>NaN</td>\n",
       "      <td>예인예술기획(주최)</td>\n",
       "      <td>만 7세 이상</td>\n",
       "      <td>N</td>\n",
       "      <td>...</td>\n",
       "      <td>Wednesday</td>\n",
       "      <td>1200</td>\n",
       "      <td>1</td>\n",
       "      <td>0</td>\n",
       "      <td>1</td>\n",
       "      <td>20000.0</td>\n",
       "      <td>0.968927</td>\n",
       "      <td>0.0</td>\n",
       "      <td>0</td>\n",
       "      <td>10</td>\n",
       "    </tr>\n",
       "    <tr>\n",
       "      <th>SE000201</th>\n",
       "      <td>PF372854</td>\n",
       "      <td>1</td>\n",
       "      <td>100</td>\n",
       "      <td>서양음악(클래식)</td>\n",
       "      <td>기악</td>\n",
       "      <td>김민욱</td>\n",
       "      <td>NaN</td>\n",
       "      <td>가온클래식(주최)</td>\n",
       "      <td>만 7세 이상</td>\n",
       "      <td>N</td>\n",
       "      <td>...</td>\n",
       "      <td>Thursday</td>\n",
       "      <td>1200</td>\n",
       "      <td>1</td>\n",
       "      <td>0</td>\n",
       "      <td>1</td>\n",
       "      <td>20000.0</td>\n",
       "      <td>0.742938</td>\n",
       "      <td>0.0</td>\n",
       "      <td>0</td>\n",
       "      <td>1</td>\n",
       "    </tr>\n",
       "    <tr>\n",
       "      <th>SE000201</th>\n",
       "      <td>PF360799</td>\n",
       "      <td>1</td>\n",
       "      <td>80</td>\n",
       "      <td>서양음악(클래식)</td>\n",
       "      <td>기악</td>\n",
       "      <td>김경희, 신미정, 장혜리, 안동호</td>\n",
       "      <td>NaN</td>\n",
       "      <td>세광아트(세광음악출판사)(주관)</td>\n",
       "      <td>만 7세 이상</td>\n",
       "      <td>N</td>\n",
       "      <td>...</td>\n",
       "      <td>Friday</td>\n",
       "      <td>1200</td>\n",
       "      <td>1</td>\n",
       "      <td>0</td>\n",
       "      <td>1</td>\n",
       "      <td>30000.0</td>\n",
       "      <td>0.946541</td>\n",
       "      <td>0.0</td>\n",
       "      <td>220</td>\n",
       "      <td>10</td>\n",
       "    </tr>\n",
       "    <tr>\n",
       "      <th>SE000201</th>\n",
       "      <td>PF372069</td>\n",
       "      <td>1</td>\n",
       "      <td>100</td>\n",
       "      <td>서양음악(클래식)</td>\n",
       "      <td>기악</td>\n",
       "      <td>나윤아</td>\n",
       "      <td>NaN</td>\n",
       "      <td>마에스트로 컴퍼니(주최)</td>\n",
       "      <td>만 7세 이상</td>\n",
       "      <td>N</td>\n",
       "      <td>...</td>\n",
       "      <td>Saturday</td>\n",
       "      <td>1200</td>\n",
       "      <td>1</td>\n",
       "      <td>0</td>\n",
       "      <td>1</td>\n",
       "      <td>10000.0</td>\n",
       "      <td>0.593525</td>\n",
       "      <td>0.0</td>\n",
       "      <td>0</td>\n",
       "      <td>6</td>\n",
       "    </tr>\n",
       "    <tr>\n",
       "      <th>...</th>\n",
       "      <td>...</td>\n",
       "      <td>...</td>\n",
       "      <td>...</td>\n",
       "      <td>...</td>\n",
       "      <td>...</td>\n",
       "      <td>...</td>\n",
       "      <td>...</td>\n",
       "      <td>...</td>\n",
       "      <td>...</td>\n",
       "      <td>...</td>\n",
       "      <td>...</td>\n",
       "      <td>...</td>\n",
       "      <td>...</td>\n",
       "      <td>...</td>\n",
       "      <td>...</td>\n",
       "      <td>...</td>\n",
       "      <td>...</td>\n",
       "      <td>...</td>\n",
       "      <td>...</td>\n",
       "      <td>...</td>\n",
       "      <td>...</td>\n",
       "    </tr>\n",
       "    <tr>\n",
       "      <th>SE000201</th>\n",
       "      <td>PF424244</td>\n",
       "      <td>1</td>\n",
       "      <td>90</td>\n",
       "      <td>서양음악(클래식)</td>\n",
       "      <td>기악</td>\n",
       "      <td>유의정, 김정현, 윤효린</td>\n",
       "      <td>NaN</td>\n",
       "      <td>지클레프(주최)</td>\n",
       "      <td>만 7세 이상</td>\n",
       "      <td>N</td>\n",
       "      <td>...</td>\n",
       "      <td>Wednesday</td>\n",
       "      <td>1170</td>\n",
       "      <td>1</td>\n",
       "      <td>0</td>\n",
       "      <td>1</td>\n",
       "      <td>20000.0</td>\n",
       "      <td>0.946328</td>\n",
       "      <td>0.0</td>\n",
       "      <td>0</td>\n",
       "      <td>10</td>\n",
       "    </tr>\n",
       "    <tr>\n",
       "      <th>SE000101</th>\n",
       "      <td>PF426471</td>\n",
       "      <td>1</td>\n",
       "      <td>90</td>\n",
       "      <td>서양음악(클래식)</td>\n",
       "      <td>기악</td>\n",
       "      <td>이주용</td>\n",
       "      <td>NaN</td>\n",
       "      <td>NaN</td>\n",
       "      <td>만 7세 이상</td>\n",
       "      <td>N</td>\n",
       "      <td>...</td>\n",
       "      <td>Thursday</td>\n",
       "      <td>1170</td>\n",
       "      <td>1</td>\n",
       "      <td>0</td>\n",
       "      <td>1</td>\n",
       "      <td>30000.0</td>\n",
       "      <td>0.728261</td>\n",
       "      <td>0.0</td>\n",
       "      <td>0</td>\n",
       "      <td>19</td>\n",
       "    </tr>\n",
       "    <tr>\n",
       "      <th>SE000201</th>\n",
       "      <td>PF425379</td>\n",
       "      <td>1</td>\n",
       "      <td>90</td>\n",
       "      <td>서양음악(클래식)</td>\n",
       "      <td>기악</td>\n",
       "      <td>김길우, 정태민</td>\n",
       "      <td>NaN</td>\n",
       "      <td>지클레프(주최)</td>\n",
       "      <td>만 7세 이상</td>\n",
       "      <td>N</td>\n",
       "      <td>...</td>\n",
       "      <td>Friday</td>\n",
       "      <td>1170</td>\n",
       "      <td>1</td>\n",
       "      <td>0</td>\n",
       "      <td>1</td>\n",
       "      <td>20000.0</td>\n",
       "      <td>0.951977</td>\n",
       "      <td>0.0</td>\n",
       "      <td>0</td>\n",
       "      <td>2</td>\n",
       "    </tr>\n",
       "    <tr>\n",
       "      <th>SE000201</th>\n",
       "      <td>PF424637</td>\n",
       "      <td>1</td>\n",
       "      <td>90</td>\n",
       "      <td>서양음악(클래식)</td>\n",
       "      <td>기악</td>\n",
       "      <td>박요셉</td>\n",
       "      <td>NaN</td>\n",
       "      <td>지클레프(주최)</td>\n",
       "      <td>만 7세 이상</td>\n",
       "      <td>N</td>\n",
       "      <td>...</td>\n",
       "      <td>Saturday</td>\n",
       "      <td>840</td>\n",
       "      <td>1</td>\n",
       "      <td>0</td>\n",
       "      <td>2</td>\n",
       "      <td>40000.0</td>\n",
       "      <td>0.954802</td>\n",
       "      <td>0.0</td>\n",
       "      <td>0</td>\n",
       "      <td>5</td>\n",
       "    </tr>\n",
       "    <tr>\n",
       "      <th>SE000201</th>\n",
       "      <td>PF425231</td>\n",
       "      <td>1</td>\n",
       "      <td>100</td>\n",
       "      <td>서양음악(클래식)</td>\n",
       "      <td>기악</td>\n",
       "      <td>박동석</td>\n",
       "      <td>NaN</td>\n",
       "      <td>예인예술기획(주최)</td>\n",
       "      <td>만 7세 이상</td>\n",
       "      <td>N</td>\n",
       "      <td>...</td>\n",
       "      <td>Saturday</td>\n",
       "      <td>1170</td>\n",
       "      <td>1</td>\n",
       "      <td>0</td>\n",
       "      <td>1</td>\n",
       "      <td>20000.0</td>\n",
       "      <td>0.980226</td>\n",
       "      <td>0.0</td>\n",
       "      <td>0</td>\n",
       "      <td>3</td>\n",
       "    </tr>\n",
       "  </tbody>\n",
       "</table>\n",
       "<p>1006 rows × 27 columns</p>\n",
       "</div>"
      ],
      "text/plain": [
       "                공연코드  공연회차  소요시간        장르명 세부장르명               출연진내용 제작진내용  \\\n",
       "Unnamed: 0                                                                    \n",
       "SE000201    PF372853     1   110  서양음악(클래식)    기악        김주원, 쾅 하오 후앙   NaN   \n",
       "SE000201    PF360668     1   100  서양음악(클래식)    기악            최유진, 이재완   NaN   \n",
       "SE000201    PF372854     1   100  서양음악(클래식)    기악                 김민욱   NaN   \n",
       "SE000201    PF360799     1    80  서양음악(클래식)    기악  김경희, 신미정, 장혜리, 안동호   NaN   \n",
       "SE000201    PF372069     1   100  서양음악(클래식)    기악                 나윤아   NaN   \n",
       "...              ...   ...   ...        ...   ...                 ...   ...   \n",
       "SE000201    PF424244     1    90  서양음악(클래식)    기악       유의정, 김정현, 윤효린   NaN   \n",
       "SE000101    PF426471     1    90  서양음악(클래식)    기악                 이주용   NaN   \n",
       "SE000201    PF425379     1    90  서양음악(클래식)    기악            김길우, 정태민   NaN   \n",
       "SE000201    PF424637     1    90  서양음악(클래식)    기악                 박요셉   NaN   \n",
       "SE000201    PF425231     1   100  서양음악(클래식)    기악                 박동석   NaN   \n",
       "\n",
       "                       기획제작사명     관람연령 아동공연 여부  ...     공연시작요일 공연시작시분 공연기간  \\\n",
       "Unnamed: 0                                      ...                          \n",
       "SE000201        (주)마스트미디어(주최)  만 7세 이상       N  ...    Tuesday   1200    1   \n",
       "SE000201           예인예술기획(주최)  만 7세 이상       N  ...  Wednesday   1200    1   \n",
       "SE000201            가온클래식(주최)  만 7세 이상       N  ...   Thursday   1200    1   \n",
       "SE000201    세광아트(세광음악출판사)(주관)  만 7세 이상       N  ...     Friday   1200    1   \n",
       "SE000201        마에스트로 컴퍼니(주최)  만 7세 이상       N  ...   Saturday   1200    1   \n",
       "...                       ...      ...     ...  ...        ...    ...  ...   \n",
       "SE000201             지클레프(주최)  만 7세 이상       N  ...  Wednesday   1170    1   \n",
       "SE000101                  NaN  만 7세 이상       N  ...   Thursday   1170    1   \n",
       "SE000201             지클레프(주최)  만 7세 이상       N  ...     Friday   1170    1   \n",
       "SE000201             지클레프(주최)  만 7세 이상       N  ...   Saturday    840    1   \n",
       "SE000201           예인예술기획(주최)  만 7세 이상       N  ...   Saturday   1170    1   \n",
       "\n",
       "           공휴일여부  좌석등급개수   평균티켓가격     좌석점유율 코로나표준점수  검색량  출연횟수  \n",
       "Unnamed: 0                                                      \n",
       "SE000201       0       1  30000.0  0.460452     0.0   30    11  \n",
       "SE000201       0       1  20000.0  0.968927     0.0    0    10  \n",
       "SE000201       0       1  20000.0  0.742938     0.0    0     1  \n",
       "SE000201       0       1  30000.0  0.946541     0.0  220    10  \n",
       "SE000201       0       1  10000.0  0.593525     0.0    0     6  \n",
       "...          ...     ...      ...       ...     ...  ...   ...  \n",
       "SE000201       0       1  20000.0  0.946328     0.0    0    10  \n",
       "SE000101       0       1  30000.0  0.728261     0.0    0    19  \n",
       "SE000201       0       1  20000.0  0.951977     0.0    0     2  \n",
       "SE000201       0       2  40000.0  0.954802     0.0    0     5  \n",
       "SE000201       0       1  20000.0  0.980226     0.0    0     3  \n",
       "\n",
       "[1006 rows x 27 columns]"
      ]
     },
     "metadata": {},
     "output_type": "display_data"
    }
   ],
   "source": [
    "import pandas as pd\n",
    "import numpy as np\n",
    "import matplotlib.pyplot as plt\n",
    "import matplotlib.font_manager\n",
    "from sklearn.preprocessing import OneHotEncoder, MinMaxScaler, MultiLabelBinarizer, LabelEncoder\n",
    "from sklearn.model_selection import train_test_split\n",
    "from sklearn.metrics import mean_squared_error, mean_absolute_error\n",
    "from sklearn.model_selection import train_test_split\n",
    "from sklearn.ensemble import RandomForestRegressor, AdaBoostRegressor, GradientBoostingRegressor\n",
    "from xgboost import XGBRegressor\n",
    "import pickle\n",
    "import re\n",
    "\n",
    "df = pd.read_csv(r'../preprocessed_data/예술의 전당/예술의전당_preprocessed.csv', index_col = 0)\n",
    "display(df)"
   ]
  },
  {
   "cell_type": "code",
   "execution_count": 3,
   "id": "cc0c4a27",
   "metadata": {},
   "outputs": [],
   "source": [
    "df.drop(['공연회차','오픈런 여부','단독판매여부','제작진내용', '공연기간', '출연진내용'], axis = 1, inplace = True)"
   ]
  },
  {
   "cell_type": "code",
   "execution_count": 4,
   "id": "12e29fad",
   "metadata": {},
   "outputs": [],
   "source": [
    "df.replace('만 7세 이상예술의전당','만 7세 이상', inplace = True)\n",
    "\n",
    "#관람연령 결측치는 최빈값으로 대체\n",
    "df['관람연령'] = df['관람연령'].fillna('만 7세 이상')\n",
    "\n",
    "#관람연령은 연령순대로 labelencoding\n",
    "age_dict = {'전체 관람가':0, '36개월 이상':1, '48개월 이상':2, '만 5세 이상':3, '만 7세 이상':4, '만 8세 이상':5}\n",
    "df['관람연령'] = df['관람연령'].map(age_dict)\n",
    "\n",
    "#기획제작사명 괄호 제거 및 리스트화\n",
    "df['기획제작사명_전처리'] = df['기획제작사명'].apply(lambda x: ['Unknown'] if pd.isna(x) else re.sub(r'\\([^)]*\\)', '', x.replace(\" \", \"\")).split(','))\n",
    "\n",
    "df.reset_index(drop = True, inplace = True)"
   ]
  },
  {
   "cell_type": "code",
   "execution_count": 6,
   "id": "914e1d9d",
   "metadata": {},
   "outputs": [],
   "source": [
    "#아동공연 여부, 축제 여부, 내한공연 여부를 이진값으로 변환\n",
    "ny_dict = {'N':0 , 'Y':1}\n",
    "df['아동공연 여부'] = df['아동공연 여부'].map(ny_dict)\n",
    "df['축제 여부'] = df['축제 여부'].map(ny_dict)\n",
    "df['내한공연 여부'] = df['내한공연 여부'].map(ny_dict)"
   ]
  },
  {
   "cell_type": "code",
   "execution_count": 7,
   "id": "691acf24",
   "metadata": {},
   "outputs": [],
   "source": [
    "#장르명 열과 세부장르명 열은 통합\n",
    "df['장르_세부'] = df['장르명']+'_'+df['세부장르명']\n",
    "df['장르_세부'].unique()\n",
    "df.drop(['장르명','세부장르명','기획제작사명'], axis = 1, inplace = True)"
   ]
  },
  {
   "cell_type": "code",
   "execution_count": 8,
   "id": "0ad01a44",
   "metadata": {
    "scrolled": true
   },
   "outputs": [
    {
     "name": "stdout",
     "output_type": "stream",
     "text": [
      "(990, 6)\n"
     ]
    }
   ],
   "source": [
    "#공연시작요일 onehotencoding\n",
    "oe = OneHotEncoder()\n",
    "one_hot_df = oe.fit_transform(df['공연시작요일'].values.reshape(-1,1)).toarray()\n",
    "one_hot_df = pd.DataFrame(one_hot_df, columns = ['dayofweek_fri','dayofweek_sat','dayofweek_sun','dayofweek_thu','dayofweek_tue', 'dayofweek_wed'])\n",
    "print(one_hot_df.shape)"
   ]
  },
  {
   "cell_type": "code",
   "execution_count": 9,
   "id": "94d026e4",
   "metadata": {},
   "outputs": [],
   "source": [
    "df = pd.concat([df, one_hot_df], axis = 1)"
   ]
  },
  {
   "cell_type": "code",
   "execution_count": 11,
   "id": "90e33254",
   "metadata": {},
   "outputs": [
    {
     "name": "stdout",
     "output_type": "stream",
     "text": [
      "(792, 24)\n",
      "(198, 24)\n",
      "(792,)\n",
      "(198,)\n"
     ]
    }
   ],
   "source": [
    "X = df.drop(['공연코드', '좌석점유율'], axis = 1)\n",
    "y = df['좌석점유율']\n",
    "\n",
    "X_train, X_test, y_train, y_test = train_test_split(X, y, test_size = 0.2, random_state = 1)\n",
    "print(X_train.shape)\n",
    "print(X_test.shape)\n",
    "print(y_train.shape)\n",
    "print(y_test.shape)"
   ]
  },
  {
   "cell_type": "code",
   "execution_count": 12,
   "id": "82f71025",
   "metadata": {},
   "outputs": [],
   "source": [
    "X_train.reset_index(drop = True, inplace = True)\n",
    "X_test.reset_index(drop = True, inplace = True)"
   ]
  },
  {
   "cell_type": "code",
   "execution_count": 13,
   "id": "76c5525f",
   "metadata": {},
   "outputs": [],
   "source": [
    "y_train.reset_index(drop = True, inplace = True)\n",
    "y_test.reset_index(drop = True, inplace = True)"
   ]
  },
  {
   "cell_type": "code",
   "execution_count": 14,
   "id": "56f7101d",
   "metadata": {},
   "outputs": [
    {
     "name": "stdout",
     "output_type": "stream",
     "text": [
      "(792, 5)\n"
     ]
    }
   ],
   "source": [
    "#장르 onehotencoding\n",
    "oe2 = OneHotEncoder(handle_unknown = 'ignore') \n",
    "oe2.fit(X_train['장르_세부'].values.reshape(-1,1))\n",
    "one_hot_trn =oe2.transform(X_train['장르_세부'].values.reshape(-1,1)).toarray()\n",
    "one_hot_trn = pd.DataFrame(one_hot_trn, columns = oe2.categories_[0])\n",
    "print(one_hot_trn.shape)"
   ]
  },
  {
   "cell_type": "code",
   "execution_count": 15,
   "id": "770e5374",
   "metadata": {},
   "outputs": [
    {
     "name": "stdout",
     "output_type": "stream",
     "text": [
      "(198, 5)\n"
     ]
    }
   ],
   "source": [
    "one_hot_tes = oe2.transform(X_test['장르_세부'].values.reshape(-1,1)).toarray()\n",
    "one_hot_tes = pd.DataFrame(one_hot_tes, columns = oe2.categories_[0])\n",
    "print(one_hot_tes.shape)"
   ]
  },
  {
   "cell_type": "code",
   "execution_count": 16,
   "id": "f8c66703",
   "metadata": {},
   "outputs": [
    {
     "name": "stdout",
     "output_type": "stream",
     "text": [
      "(792, 133)\n"
     ]
    }
   ],
   "source": [
    "#기획제작사명 onehotencoding\n",
    "mlb = MultiLabelBinarizer()\n",
    "mlb.fit(X_train['기획제작사명_전처리'])\n",
    "mlb_trn = mlb.transform(X_train['기획제작사명_전처리'])\n",
    "mlb_trn = pd.DataFrame(mlb_trn, columns = mlb.classes_)\n",
    "print(mlb_trn.shape)"
   ]
  },
  {
   "cell_type": "code",
   "execution_count": 18,
   "id": "c1a57b1d",
   "metadata": {},
   "outputs": [
    {
     "name": "stdout",
     "output_type": "stream",
     "text": [
      "(198, 133)\n"
     ]
    },
    {
     "name": "stderr",
     "output_type": "stream",
     "text": [
      "C:\\Users\\vmffl\\anaconda3\\Lib\\site-packages\\sklearn\\preprocessing\\_label.py:895: UserWarning: unknown class(es) ['바로크와현대가곡연구회', '서울예술가곡연구회', '서울플루트트리오', '성우회', '세종목관챔버앙상블', '스테이지원', '아트앤아티스트', '영미성악연구회', '음악오늘', '콜레기움보칼레서울', '플루트아트센터', '피아노앙상블LesSix', '한다우리예술기획'] will be ignored\n",
      "  warnings.warn(\n"
     ]
    }
   ],
   "source": [
    "mlb_tes = mlb.transform(X_test['기획제작사명_전처리'])\n",
    "mlb_tes = pd.DataFrame(mlb_tes, columns = mlb.classes_)\n",
    "print(mlb_tes.shape)"
   ]
  },
  {
   "cell_type": "code",
   "execution_count": 19,
   "id": "92aa11a8",
   "metadata": {},
   "outputs": [],
   "source": [
    "X_train = pd.concat([X_train, one_hot_trn, mlb_trn], axis = 1)\n",
    "X_test = pd.concat([X_test, one_hot_tes, mlb_tes], axis = 1)"
   ]
  },
  {
   "cell_type": "code",
   "execution_count": 20,
   "id": "fef29dbc",
   "metadata": {},
   "outputs": [],
   "source": [
    "X_train.drop(['공연시작요일','기획제작사명_전처리','장르_세부'], axis = 1, inplace = True)\n",
    "X_test.drop(['공연시작요일','기획제작사명_전처리','장르_세부'], axis = 1, inplace = True)"
   ]
  },
  {
   "cell_type": "markdown",
   "id": "c971f9d8",
   "metadata": {},
   "source": [
    "### RandomForestRegressor "
   ]
  },
  {
   "cell_type": "code",
   "execution_count": null,
   "id": "99b6aaeb",
   "metadata": {},
   "outputs": [],
   "source": [
    "rf = RandomForestRegressor(n_estimators = 100, max_features = 1.0,  random_state = 40, criterion = 'friedman_mse')\n",
    "rf.fit(X_train, y_train)\n",
    "trn_pred = rf.predict(X_train)\n",
    "tes_pred = rf.predict(X_test)"
   ]
  },
  {
   "cell_type": "code",
   "execution_count": 23,
   "id": "c0cbfe4b",
   "metadata": {
    "scrolled": true
   },
   "outputs": [
    {
     "name": "stdout",
     "output_type": "stream",
     "text": [
      "0.0020422104408017003\n",
      "0.04519082252849244\n",
      "0.026417340805773477\n"
     ]
    }
   ],
   "source": [
    "print(mean_squared_error(y_train, trn_pred))\n",
    "print(np.sqrt(mean_squared_error(y_train, trn_pred)))\n",
    "print(mean_absolute_error(y_train, trn_pred))"
   ]
  },
  {
   "cell_type": "code",
   "execution_count": 21,
   "id": "0749ca73",
   "metadata": {},
   "outputs": [
    {
     "name": "stdout",
     "output_type": "stream",
     "text": [
      "0.011864472983944508\n",
      "0.1089241616168998\n",
      "0.06882673025220719\n"
     ]
    }
   ],
   "source": [
    "print(mean_squared_error(y_test, tes_pred))\n",
    "print(np.sqrt(mean_squared_error(y_test, tes_pred)))\n",
    "print(mean_absolute_error(y_test, tes_pred))"
   ]
  },
  {
   "cell_type": "markdown",
   "id": "37f704da",
   "metadata": {},
   "source": [
    "### GBM "
   ]
  },
  {
   "cell_type": "code",
   "execution_count": 26,
   "id": "5ff98b18",
   "metadata": {},
   "outputs": [],
   "source": [
    "gbm = GradientBoostingRegressor(n_estimators = 300, learning_rate = 0.14, loss = 'huber',random_state=40)\n",
    "gbm.fit(X_train, y_train)\n",
    "trn_pred2 = gbm.predict(X_train)\n",
    "tes_pred2 = gbm.predict(X_test)"
   ]
  },
  {
   "cell_type": "code",
   "execution_count": 25,
   "id": "0dfb2914",
   "metadata": {},
   "outputs": [
    {
     "name": "stdout",
     "output_type": "stream",
     "text": [
      "0.005387061727321866\n",
      "0.07339660569346423\n",
      "0.03751749117159435\n"
     ]
    }
   ],
   "source": [
    "print(mean_squared_error(y_train, trn_pred2))\n",
    "print(np.sqrt(mean_squared_error(y_train, trn_pred2)))\n",
    "print(mean_absolute_error(y_train, trn_pred2))"
   ]
  },
  {
   "cell_type": "code",
   "execution_count": 23,
   "id": "49851cd6",
   "metadata": {},
   "outputs": [
    {
     "name": "stdout",
     "output_type": "stream",
     "text": [
      "0.010626383081319406\n",
      "0.10308434935197199\n",
      "0.06066211451058694\n"
     ]
    }
   ],
   "source": [
    "print(mean_squared_error(y_test, tes_pred2))\n",
    "print(np.sqrt(mean_squared_error(y_test, tes_pred2)))\n",
    "print(mean_absolute_error(y_test, tes_pred2))"
   ]
  },
  {
   "cell_type": "code",
   "execution_count": 68,
   "id": "7cb7f0ea",
   "metadata": {},
   "outputs": [
    {
     "data": {
      "text/plain": [
       "['NanumSquareRoundOTF',\n",
       " 'NanumSquare Neo Regular',\n",
       " 'NanumSquare Neo ExtraBold',\n",
       " 'NanumSquareOTF',\n",
       " 'NanumSquareOTF_ac',\n",
       " 'NanumSquareRoundOTF',\n",
       " 'NanumSquareOTF',\n",
       " 'NanumSquare Neo Bold',\n",
       " 'NanumSquare Neo Heavy',\n",
       " 'NanumSquareRoundOTF',\n",
       " 'NanumSquareOTF_ac',\n",
       " 'NanumSquareOTF_ac',\n",
       " 'NanumSquareRoundOTF',\n",
       " 'NanumSquareOTF',\n",
       " 'NanumSquareOTF',\n",
       " 'NanumGothic',\n",
       " 'NanumSquare Neo Light',\n",
       " 'NanumSquareOTF_ac']"
      ]
     },
     "execution_count": 68,
     "metadata": {},
     "output_type": "execute_result"
    }
   ],
   "source": [
    "font_list = matplotlib.font_manager.findSystemFonts(fontpaths=None, fontext='ttf')\n",
    "[matplotlib.font_manager.FontProperties(fname=font).get_name() for font in font_list if 'Nanum' in font]"
   ]
  },
  {
   "cell_type": "code",
   "execution_count": 69,
   "id": "58ff072c",
   "metadata": {},
   "outputs": [],
   "source": [
    "plt.rcParams['font.family'] = 'Malgun Gothic'"
   ]
  },
  {
   "cell_type": "code",
   "execution_count": 70,
   "id": "ab34a23e",
   "metadata": {},
   "outputs": [
    {
     "data": {
      "image/png": "[encoded data removed]",
      "text/plain": [
       "<Figure size 1000x600 with 1 Axes>"
      ]
     },
     "metadata": {},
     "output_type": "display_data"
    }
   ],
   "source": [
    "# imp를 활용하여 Series 생성\n",
    "imp = gbm_all.feature_importances_[:20]\n",
    "forest_importances = pd.Series(imp, index=X_train.columns[:20])\n",
    "\n",
    "# 중요도 값을 기준으로 내림차순으로 정렬\n",
    "forest_importances_sorted = forest_importances.sort_values(ascending=False)\n",
    "#print(forest_importances_sorted.index[:20])\n",
    "\n",
    "\n",
    "plt.figure(figsize=(10, 6))\n",
    "forest_importances_sorted.plot(kind='bar')\n",
    "plt.title(\"Feature Importance\")\n",
    "plt.xlabel(\"Features\")\n",
    "plt.ylabel(\"Importance\")\n",
    "plt.show()\n"
   ]
  },
  {
   "cell_type": "code",
   "execution_count": null,
   "id": "d028ab72",
   "metadata": {},
   "outputs": [],
   "source": [
    "y_data = pd.concat([y_train, y_test])\n",
    "y_data.reset_index(drop = True, inplace = True)"
   ]
  },
  {
   "cell_type": "code",
   "execution_count": null,
   "id": "f97f2c0d",
   "metadata": {},
   "outputs": [],
   "source": [
    "X_data = pd.concat([X_train, X_test])\n",
    "X_data.reset_index(drop = True, inplace = True)"
   ]
  },
  {
   "cell_type": "code",
   "execution_count": 63,
   "id": "36b9721e",
   "metadata": {},
   "outputs": [],
   "source": [
    "gbm_all = GradientBoostingRegressor(n_estimators = 300, learning_rate = 0.14, loss = 'huber',random_state=40)\n",
    "gbm_all.fit(X_data, y_data)\n",
    "fin_pred = gbm_all.predict(X_data)"
   ]
  },
  {
   "cell_type": "code",
   "execution_count": 71,
   "id": "0c3573be",
   "metadata": {},
   "outputs": [],
   "source": [
    "filename = '../model/gbm_fin_model_sac.sav'\n",
    "pickle.dump(gbm_all, open(filename, 'wb'))"
   ]
  },
  {
   "cell_type": "code",
   "execution_count": 74,
   "id": "f69557e2",
   "metadata": {
    "scrolled": true
   },
   "outputs": [],
   "source": [
    "X_data['좌석점유율'] = y_data"
   ]
  },
  {
   "cell_type": "code",
   "execution_count": 75,
   "id": "51eec786",
   "metadata": {},
   "outputs": [],
   "source": [
    "X_data.to_csv('../preprocessed_data/예술의 전당/모델학습및테스트데이터_최종.csv')"
   ]
  },
  {
   "cell_type": "markdown",
   "id": "acd8963e",
   "metadata": {},
   "source": [
    "### XGBoost"
   ]
  },
  {
   "cell_type": "code",
   "execution_count": 29,
   "id": "76bba8bf",
   "metadata": {},
   "outputs": [],
   "source": [
    "xgb_model = XGBRegressor(learning_rate=0.1, n_estimators=500, random_state = 40)\n",
    "xgb_model.fit(X_train, y_train)\n",
    "trn_pred3 = xgb_model.predict(X_train)\n",
    "tes_pred3 = xgb_model.predict(X_test)"
   ]
  },
  {
   "cell_type": "code",
   "execution_count": 27,
   "id": "3b0e43f4",
   "metadata": {},
   "outputs": [
    {
     "name": "stdout",
     "output_type": "stream",
     "text": [
      "0.0009296469385996107\n",
      "0.020601443957313396\n",
      "0.02577349202983109\n"
     ]
    }
   ],
   "source": [
    "print(mean_squared_error(y_train, trn_pred3))\n",
    "print(mean_absolute_error(y_train, trn_pred3))\n",
    "print(mean_absolute_percentage_error(y_train, trn_pred3))"
   ]
  },
  {
   "cell_type": "code",
   "execution_count": 25,
   "id": "6e20966e",
   "metadata": {
    "scrolled": true
   },
   "outputs": [
    {
     "name": "stdout",
     "output_type": "stream",
     "text": [
      "0.0129753570709175\n",
      "0.1139094248555294\n",
      "0.07028013654808823\n"
     ]
    }
   ],
   "source": [
    "print(mean_squared_error(y_test, tes_pred3))\n",
    "print(np.sqrt(mean_squared_error(y_test, tes_pred3)))\n",
    "print(mean_absolute_error(y_test, tes_pred3))"
   ]
  }
 ],
 "metadata": {
  "kernelspec": {
   "display_name": "Python 3 (ipykernel)",
   "language": "python",
   "name": "python3"
  },
  "language_info": {
   "codemirror_mode": {
    "name": "ipython",
    "version": 3
   },
   "file_extension": ".py",
   "mimetype": "text/x-python",
   "name": "python",
   "nbconvert_exporter": "python",
   "pygments_lexer": "ipython3",
   "version": "3.8.8"
  },
  "toc": {
   "base_numbering": 1,
   "nav_menu": {},
   "number_sections": true,
   "sideBar": true,
   "skip_h1_title": false,
   "title_cell": "Table of Contents",
   "title_sidebar": "Contents",
   "toc_cell": false,
   "toc_position": {},
   "toc_section_display": true,
   "toc_window_display": false
  },
  "varInspector": {
   "cols": {
    "lenName": 16,
    "lenType": 16,
    "lenVar": 40
   },
   "kernels_config": {
    "python": {
     "delete_cmd_postfix": "",
     "delete_cmd_prefix": "del ",
     "library": "var_list.py",
     "varRefreshCmd": "print(var_dic_list())"
    },
    "r": {
     "delete_cmd_postfix": ") ",
     "delete_cmd_prefix": "rm(",
     "library": "var_list.r",
     "varRefreshCmd": "cat(var_dic_list()) "
    }
   },
   "types_to_exclude": [
    "module",
    "function",
    "builtin_function_or_method",
    "instance",
    "_Feature"
   ],
   "window_display": false
  }
 },
 "nbformat": 4,
 "nbformat_minor": 5
}
